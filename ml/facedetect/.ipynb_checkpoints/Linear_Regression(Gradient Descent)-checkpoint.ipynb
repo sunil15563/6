{
 "cells": [
  {
   "cell_type": "code",
   "execution_count": 1,
   "metadata": {
    "collapsed": true
   },
   "outputs": [],
   "source": [
    "import numpy as nu\n",
    "import pandas as pd\n",
    "import random as rn\n",
    "import matplotlib.pyplot as plt\n",
    "import time as t\n",
    "plt.close()"
   ]
  },
  {
   "cell_type": "code",
   "execution_count": 2,
   "metadata": {
    "scrolled": true
   },
   "outputs": [
    {
     "ename": "FileNotFoundError",
     "evalue": "[Errno 2] No such file or directory: '/home/BSC_3_G2/Desktop/data_lr.csv'",
     "output_type": "error",
     "traceback": [
      "\u001b[1;31m---------------------------------------------------------------------------\u001b[0m",
      "\u001b[1;31mFileNotFoundError\u001b[0m                         Traceback (most recent call last)",
      "\u001b[1;32m<ipython-input-2-92c22ceb4aba>\u001b[0m in \u001b[0;36m<module>\u001b[1;34m()\u001b[0m\n\u001b[1;32m----> 1\u001b[1;33m \u001b[0mdata\u001b[0m\u001b[1;33m=\u001b[0m\u001b[0mopen\u001b[0m\u001b[1;33m(\u001b[0m\u001b[1;34m'/home/BSC_3_G2/Desktop/data_lr.csv'\u001b[0m\u001b[1;33m)\u001b[0m\u001b[1;33m\u001b[0m\u001b[0m\n\u001b[0m\u001b[0;32m      2\u001b[0m \u001b[1;33m\u001b[0m\u001b[0m\n\u001b[0;32m      3\u001b[0m \u001b[1;32mdef\u001b[0m \u001b[0mget_update\u001b[0m\u001b[1;33m(\u001b[0m\u001b[0mx\u001b[0m\u001b[1;33m,\u001b[0m \u001b[0my\u001b[0m\u001b[1;33m,\u001b[0m \u001b[0mweight_0\u001b[0m\u001b[1;33m,\u001b[0m\u001b[0mweight_1\u001b[0m\u001b[1;33m,\u001b[0m \u001b[0mm\u001b[0m\u001b[1;33m,\u001b[0m \u001b[0malpha\u001b[0m\u001b[1;33m)\u001b[0m\u001b[1;33m:\u001b[0m\u001b[1;33m\u001b[0m\u001b[0m\n\u001b[0;32m      4\u001b[0m     \u001b[0mupdate_0\u001b[0m \u001b[1;33m=\u001b[0m \u001b[1;36m0\u001b[0m\u001b[1;33m\u001b[0m\u001b[0m\n\u001b[0;32m      5\u001b[0m     \u001b[0mupdate_1\u001b[0m \u001b[1;33m=\u001b[0m \u001b[1;36m0\u001b[0m\u001b[1;33m\u001b[0m\u001b[0m\n",
      "\u001b[1;31mFileNotFoundError\u001b[0m: [Errno 2] No such file or directory: '/home/BSC_3_G2/Desktop/data_lr.csv'"
     ]
    }
   ],
   "source": [
    "data=open('/home/BSC_3_G2/Desktop/data_lr.csv')\n",
    "\n",
    "def get_update(x, y, weight_0,weight_1, m, alpha):\n",
    "    update_0 = 0\n",
    "    update_1 = 0\n",
    "    #print( round((1 / m),10))\n",
    "    for i in range(m-1):\n",
    "        update_0 +=  alpha * (1/m) * (y[i] - ((weight_1 * x[i]) + weight_0)) * (-1)\n",
    "        update_1 +=  alpha * (1/m) * (y[i] - ((weight_1 * x[i]) + weight_0)) * (-1) * x[i]\n",
    "        \n",
    "    #update = np.sum(alpha * round((1 / m),3) * np.round((( weight_0 + (weight_1 * x) - y ) * weight_1),2))\n",
    "    #print(update, \" update\")\n",
    "    \n",
    "    return update_0, update_1\n",
    "x = []\n",
    "y = []\n",
    "\n",
    "for line in data:\n",
    "    try:\n",
    "        tokens = line.split(\",\")\n",
    "        x.append(float(tokens[0].strip()))\n",
    "        y.append(float(tokens[1].strip()))\n",
    "    except:\n",
    "        continue\n",
    "x = x[1:]\n",
    "y = y[1:]\n",
    "\n",
    "plt.plot(x,y,'o')\n",
    "\n",
    "    \n",
    "num_samples = len(x)\n",
    "\n",
    "param_0 = 1\n",
    "\n",
    "param_1 = 3\n",
    "\n",
    "params = [param_0, param_1]\n",
    "\n",
    "num_iters = 10000\n",
    "\n",
    "alpha = 0.0003\n",
    "\n",
    "\n",
    "for i in range(num_iters):\n",
    "    update_0, update_1 = get_update(x[1:], y[1:], param_0, param_1, num_samples, alpha)\n",
    "    param_0 = param_0 - update_0\n",
    "    param_1 = param_1 - update_1\n",
    "    if i==1 or i==50 or i==100 or i==500:\n",
    "        t.sleep(1)\n",
    "        print('Entered')\n",
    "        h = list(map((lambda t: param_0 + (t * param_1)), x))\n",
    "        plt.plot(x, h)\n",
    "        plt.plot(x,y,'o')\n",
    "        plt.show()\n",
    "h = list(map((lambda t: param_0 + (t * param_1)), x))\n",
    "plt.plot(x,h)\n",
    "plt.suptitle('Maine ML kardiya')\n",
    "plt.xlabel('x')\n",
    "plt.ylabel('y')\n",
    "plt.plot(x,y,'o')\n",
    "\n",
    "plt.show()\n"
   ]
  },
  {
   "cell_type": "code",
   "execution_count": null,
   "metadata": {
    "collapsed": true
   },
   "outputs": [],
   "source": []
  }
 ],
 "metadata": {
  "kernelspec": {
   "display_name": "Python 3",
   "language": "python",
   "name": "python3"
  },
  "language_info": {
   "codemirror_mode": {
    "name": "ipython",
    "version": 3
   },
   "file_extension": ".py",
   "mimetype": "text/x-python",
   "name": "python",
   "nbconvert_exporter": "python",
   "pygments_lexer": "ipython3",
   "version": "3.6.3"
  }
 },
 "nbformat": 4,
 "nbformat_minor": 2
}
